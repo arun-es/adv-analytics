{
 "cells": [
  {
   "cell_type": "code",
   "execution_count": 1,
   "metadata": {},
   "outputs": [],
   "source": [
    "import numpy as np\n",
    "\n",
    "from sklearn.compose import ColumnTransformer\n",
    "from sklearn.pipeline import Pipeline\n",
    "from sklearn.impute import SimpleImputer\n",
    "from sklearn.preprocessing import StandardScaler, OneHotEncoder\n",
    "from sklearn.linear_model import LogisticRegression\n",
    "from sklearn.model_selection import train_test_split, GridSearchCV\n",
    "\n",
    "from sklearn.feature_selection import SelectFromModel\n",
    "from sklearn.linear_model import LassoCV\n",
    "import pandas as pd\n",
    "\n",
    "from matplotlib import pyplot as plt"
   ]
  },
  {
   "cell_type": "code",
   "execution_count": 5,
   "metadata": {},
   "outputs": [],
   "source": [
    "df = pd.read_csv(\"/home/ubuntu/sandbox/Arun/Regression/florence.csv\")\n",
    "X = df[[\"Recency\",\"F\",\"M\",\"ArtBks\",\"Gender\",\"GeogBks\"]]\n",
    "y = df[\"Florence\"]\n",
    "X_train, X_test, y_train, y_test = train_test_split(X, y, test_size=0.2,random_state=44)"
   ]
  },
  {
   "cell_type": "code",
   "execution_count": 6,
   "metadata": {},
   "outputs": [],
   "source": [
    "numeric_features = [\"Recency\",\"F\",\"M\",\"ArtBks\",\"GeogBks\"]\n",
    "numeric_transformer = Pipeline(steps=[\n",
    "    ('imputer', SimpleImputer(strategy='median')),\n",
    "    ('scaler', StandardScaler())])\n",
    "\n",
    "categorical_features = [\"Gender\"]\n",
    "categorical_transformer = Pipeline(steps=[\n",
    "    ('imputer', SimpleImputer(strategy='constant', fill_value=3)),\n",
    "    ('onehot', OneHotEncoder(handle_unknown='ignore'))])\n",
    "\n",
    "preprocessor = ColumnTransformer(\n",
    "    transformers=[\n",
    "        ('num', numeric_transformer, numeric_features),\n",
    "        ('cat', categorical_transformer, categorical_features)])\n"
   ]
  },
  {
   "cell_type": "code",
   "execution_count": 7,
   "metadata": {},
   "outputs": [
    {
     "name": "stdout",
     "output_type": "stream",
     "text": [
      "model score: 0.913\n",
      "model score: 0.950\n"
     ]
    }
   ],
   "source": [
    "\n",
    "# Append classifier to preprocessing pipeline.\n",
    "# Now we have a full prediction pipeline.\n",
    "clf = Pipeline(steps=[('preprocessor', preprocessor),\n",
    "                      ('regressor', LogisticRegression())])\n",
    "\n",
    "clf.fit(X_train, y_train)\n",
    "\n",
    "print(\"model score: %.3f\" % clf.score(X_train, y_train))\n",
    "print(\"model score: %.3f\" % clf.score(X_test, y_test))\n",
    "\n"
   ]
  },
  {
   "cell_type": "code",
   "execution_count": 8,
   "metadata": {},
   "outputs": [
    {
     "data": {
      "image/png": "[encoded data removed]",
      "text/plain": [
       "<Figure size 432x288 with 1 Axes>"
      ]
     },
     "metadata": {},
     "output_type": "display_data"
    }
   ],
   "source": [
    "import sklearn.metrics as metrics\n",
    "# calculate the fpr and tpr for all thresholds of the classification\n",
    "probs = clf.predict_proba(X_test)\n",
    "preds = probs[:,1]\n",
    "fpr, tpr, threshold = metrics.roc_curve(y_test, preds)\n",
    "roc_auc = metrics.auc(fpr, tpr)\n",
    "\n",
    "# method I: plt\n",
    "import matplotlib.pyplot as plt\n",
    "plt.title('Receiver Operating Characteristic')\n",
    "plt.plot(fpr, tpr, 'b', label = 'AUC = %0.2f' % roc_auc)\n",
    "plt.legend(loc = 'lower right')\n",
    "plt.plot([0, 1], [0, 1],'r--')\n",
    "plt.xlim([0, 1])\n",
    "plt.ylim([0, 1])\n",
    "plt.ylabel('True Positive Rate')\n",
    "plt.xlabel('False Positive Rate')\n",
    "plt.show()\n"
   ]
  },
  {
   "cell_type": "code",
   "execution_count": 9,
   "metadata": {},
   "outputs": [],
   "source": [
    "import time\n",
    "from scipy.stats._stats import _kendall_dis"
   ]
  },
  {
   "cell_type": "code",
   "execution_count": 10,
   "metadata": {},
   "outputs": [
    {
     "name": "stdout",
     "output_type": "stream",
     "text": [
      "0.073355629877369 893\n"
     ]
    }
   ],
   "source": [
    "def SomersD(x, y):\n",
    "\n",
    "    x = np.asarray(x).ravel()\n",
    "    y = np.asarray(y).ravel()\n",
    "\n",
    "    if x.size != y.size:\n",
    "        raise ValueError(\"All inputs must be of the same size, \"\n",
    "                         \"found x-size %s and y-size %s\" % (x.size, y.size))\n",
    "\n",
    "    def count_rank_tie(ranks):\n",
    "        cnt = np.bincount(ranks).astype('int64', copy=False)\n",
    "        cnt = cnt[cnt > 1]\n",
    "        return ((cnt * (cnt - 1) // 2).sum(),\n",
    "            (cnt * (cnt - 1.) * (cnt - 2)).sum(),\n",
    "            (cnt * (cnt - 1.) * (2*cnt + 5)).sum())\n",
    "\n",
    "    size = x.size\n",
    "    perm = np.argsort(y)  # sort on y and convert y to dense ranks\n",
    "    x, y = x[perm], y[perm]\n",
    "    y = np.r_[True, y[1:] != y[:-1]].cumsum(dtype=np.intp)\n",
    "\n",
    "    # stable sort on x and convert x to dense ranks\n",
    "    perm = np.argsort(x, kind='mergesort')\n",
    "    x, y = x[perm], y[perm]\n",
    "    x = np.r_[True, x[1:] != x[:-1]].cumsum(dtype=np.intp)\n",
    "\n",
    "    dis = _kendall_dis(x, y)  # discordant pairs\n",
    "\n",
    "    obs = np.r_[True, (x[1:] != x[:-1]) | (y[1:] != y[:-1]), True]\n",
    "    cnt = np.diff(np.where(obs)[0]).astype('int64', copy=False)\n",
    "\n",
    "    ntie = (cnt * (cnt - 1) // 2).sum()  # joint ties\n",
    "    xtie, x0, x1 = count_rank_tie(x)     # ties in x, stats\n",
    "    ytie, y0, y1 = count_rank_tie(y)     # ties in y, stats\n",
    "\n",
    "    tot = (size * (size - 1)) // 2\n",
    "\n",
    "    # Note that tot = con + dis + (xtie - ntie) + (ytie - ntie) + ntie\n",
    "    #               = con + dis + xtie + ytie - ntie\n",
    "    #con_minus_dis = tot - xtie - ytie + ntie - 2 * dis\n",
    "    SD = (tot - xtie - ytie + ntie - 2 * dis) / (tot - ntie)\n",
    "    return (SD, dis)\n",
    "\n",
    "\n",
    "SD, dis = SomersD(preds,y_test)\n",
    "print(SD,dis)"
   ]
  },
  {
   "cell_type": "code",
   "execution_count": 11,
   "metadata": {},
   "outputs": [
    {
     "data": {
      "image/png": "[encoded data removed]",
      "text/plain": [
       "<Figure size 432x288 with 1 Axes>"
      ]
     },
     "metadata": {},
     "output_type": "display_data"
    }
   ],
   "source": [
    "plt.hist(preds)\n",
    "plt.show()"
   ]
  }
 ],
 "metadata": {
  "kernelspec": {
   "display_name": "Python 3",
   "language": "python",
   "name": "python3"
  },
  "language_info": {
   "codemirror_mode": {
    "name": "ipython",
    "version": 3
   },
   "file_extension": ".py",
   "mimetype": "text/x-python",
   "name": "python",
   "nbconvert_exporter": "python",
   "pygments_lexer": "ipython3",
   "version": "3.6.7"
  }
 },
 "nbformat": 4,
 "nbformat_minor": 2
}
