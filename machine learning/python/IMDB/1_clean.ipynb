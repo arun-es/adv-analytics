{
 "cells": [
  {
   "cell_type": "code",
   "execution_count": 147,
   "metadata": {},
   "outputs": [],
   "source": [
    "import pandas as pd\n",
    "from sklearn.impute import SimpleImputer"
   ]
  },
  {
   "cell_type": "code",
   "execution_count": 148,
   "metadata": {},
   "outputs": [],
   "source": [
    "steps = pd.read_csv(\"data_prep_recipe.csv\")"
   ]
  },
  {
   "cell_type": "code",
   "execution_count": 149,
   "metadata": {},
   "outputs": [],
   "source": [
    "df = pd.read_csv(\"movie_metadata.csv\")"
   ]
  },
  {
   "cell_type": "code",
   "execution_count": 150,
   "metadata": {},
   "outputs": [],
   "source": [
    "median_cols = steps.loc[steps[\"median\"]==1,\"column\"].tolist()"
   ]
  },
  {
   "cell_type": "code",
   "execution_count": 151,
   "metadata": {},
   "outputs": [],
   "source": [
    "imp_median = SimpleImputer(strategy='median')\n",
    "df[median_cols] = imp_median.fit_transform(df[median_cols])"
   ]
  },
  {
   "cell_type": "code",
   "execution_count": 152,
   "metadata": {},
   "outputs": [],
   "source": [
    "const_cols = steps.loc[steps[\"constant\"]!=\"0\",[\"column\",\"constant\"]].reset_index(drop=True)"
   ]
  },
  {
   "cell_type": "code",
   "execution_count": 153,
   "metadata": {},
   "outputs": [],
   "source": [
    "for i in range(0,const_cols.shape[0]):\n",
    "    imp_median = SimpleImputer(strategy='constant',fill_value=const_cols.loc[i,\"constant\"])\n",
    "    df[const_cols.loc[i,\"column\"]] = imp_median.fit_transform(df[const_cols.loc[i,\"column\"]].values.reshape(-1, 1))"
   ]
  },
  {
   "cell_type": "code",
   "execution_count": 154,
   "metadata": {},
   "outputs": [],
   "source": [
    "drop_cols = steps.loc[steps[\"drop\"]==1,\"column\"].tolist()"
   ]
  },
  {
   "cell_type": "code",
   "execution_count": 155,
   "metadata": {},
   "outputs": [],
   "source": [
    "df = df.drop(drop_cols,axis=1)"
   ]
  },
  {
   "cell_type": "code",
   "execution_count": 156,
   "metadata": {},
   "outputs": [],
   "source": [
    "dummy_cols = steps.loc[steps[\"dummy\"]==1,\"column\"].tolist()"
   ]
  },
  {
   "cell_type": "code",
   "execution_count": 157,
   "metadata": {},
   "outputs": [],
   "source": [
    "# Create dummy variables\n",
    "cat_df = df[dummy_cols]\n",
    "df.drop(dummy_cols,axis=1,inplace=True)\n"
   ]
  },
  {
   "cell_type": "code",
   "execution_count": 158,
   "metadata": {},
   "outputs": [],
   "source": [
    "from sklearn.preprocessing import MultiLabelBinarizer\n",
    "\n",
    "for dvar in dummy_cols:\n",
    "    s =cat_df[dvar].str.split(pat=\"|\")\n",
    "    mlb = MultiLabelBinarizer()\n",
    "    df= pd.concat([df,pd.DataFrame(mlb.fit_transform(s),columns=mlb.classes_, index=df.index)],axis=1)\n"
   ]
  },
  {
   "cell_type": "code",
   "execution_count": 159,
   "metadata": {},
   "outputs": [
    {
     "data": {
      "text/plain": [
       "num_critic_for_reviews     0\n",
       "duration                   0\n",
       "director_facebook_likes    0\n",
       "actor_3_facebook_likes     0\n",
       "actor_1_facebook_likes     0\n",
       "                          ..\n",
       "TV-PG                      0\n",
       "TV-Y                       0\n",
       "TV-Y7                      0\n",
       "Unrated                    0\n",
       "X                          0\n",
       "Length: 172, dtype: int64"
      ]
     },
     "execution_count": 159,
     "metadata": {},
     "output_type": "execute_result"
    }
   ],
   "source": [
    "df.isna().sum()"
   ]
  },
  {
   "cell_type": "code",
   "execution_count": 160,
   "metadata": {},
   "outputs": [],
   "source": [
    "# All missing values removed, saving to file\n",
    "df.to_csv(\"cleaned_imdb.csv\",index=False)"
   ]
  },
  {
   "cell_type": "code",
   "execution_count": null,
   "metadata": {},
   "outputs": [],
   "source": []
  }
 ],
 "metadata": {
  "kernelspec": {
   "display_name": "Python 3",
   "language": "python",
   "name": "python3"
  },
  "language_info": {
   "codemirror_mode": {
    "name": "ipython",
    "version": 3
   },
   "file_extension": ".py",
   "mimetype": "text/x-python",
   "name": "python",
   "nbconvert_exporter": "python",
   "pygments_lexer": "ipython3",
   "version": "3.6.7"
  }
 },
 "nbformat": 4,
 "nbformat_minor": 2
}
