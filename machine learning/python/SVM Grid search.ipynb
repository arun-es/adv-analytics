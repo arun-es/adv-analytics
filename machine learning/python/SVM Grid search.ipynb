{
 "cells": [
  {
   "cell_type": "code",
   "execution_count": 1,
   "metadata": {},
   "outputs": [],
   "source": [
    "import numpy as np\n",
    "import pandas as pd\n",
    "from matplotlib import pyplot as plt\n",
    "\n",
    "from sklearn.svm import SVC\n",
    "\n",
    "from sklearn.model_selection import train_test_split\n",
    "from sklearn.model_selection import GridSearchCV, KFold, cross_val_score"
   ]
  },
  {
   "cell_type": "code",
   "execution_count": 2,
   "metadata": {},
   "outputs": [
    {
     "data": {
      "text/plain": [
       "Index(['Seq', 'ID', 'Gender', 'M', 'Recency', 'F', 'FirstPruch', 'ChildBks',\n",
       "       'YouthBks', 'CookBks', 'DoltYBks', 'RefBks', 'ArtBks', 'GeogBks',\n",
       "       'ItalCook', 'ItalAtlas', 'ItalArt', 'Florence', 'Rela_pruchace'],\n",
       "      dtype='object')"
      ]
     },
     "execution_count": 2,
     "metadata": {},
     "output_type": "execute_result"
    }
   ],
   "source": [
    "df = pd.read_csv(\"florence.csv\") \n",
    "df.columns"
   ]
  },
  {
   "cell_type": "code",
   "execution_count": 3,
   "metadata": {},
   "outputs": [],
   "source": [
    "#train_X,test_X, train_y,test_y = train_test_split(df.loc[:,[\"Gender\",'M','Recency', 'F','ArtBks']],df[\"Florence\"],test_size=0.4, random_state=42)\n",
    "train_X,test_X, train_y,test_y = train_test_split(df.drop(['Florence',\"Seq\"],axis=1),df[\"Florence\"],test_size=0.4, random_state=42)"
   ]
  },
  {
   "cell_type": "code",
   "execution_count": 12,
   "metadata": {},
   "outputs": [],
   "source": [
    "# Round 1\n",
    "param_grid1 = {\n",
    "    \"kernel\" : [\"poly\",\"rbf\"],\n",
    "    'degree':[2,3,5],\n",
    "    'coef0':[0.1,0.5,1,2]  \n",
    "}"
   ]
  },
  {
   "cell_type": "code",
   "execution_count": 14,
   "metadata": {},
   "outputs": [
    {
     "name": "stdout",
     "output_type": "stream",
     "text": [
      "Fitting 3 folds for each of 24 candidates, totalling 72 fits\n",
      "[CV] coef0=0.1, degree=2, kernel=poly ................................\n",
      "[CV] ................. coef0=0.1, degree=2, kernel=poly, total=   0.0s\n",
      "[CV] coef0=0.1, degree=2, kernel=poly ................................\n",
      "[CV] ................. coef0=0.1, degree=2, kernel=poly, total=   0.0s\n",
      "[CV] coef0=0.1, degree=2, kernel=poly ................................\n",
      "[CV] ................. coef0=0.1, degree=2, kernel=poly, total=   0.0s\n",
      "[CV] coef0=0.1, degree=2, kernel=rbf .................................\n",
      "[CV] .................. coef0=0.1, degree=2, kernel=rbf, total=   0.0s\n",
      "[CV] coef0=0.1, degree=2, kernel=rbf .................................\n",
      "[CV] .................. coef0=0.1, degree=2, kernel=rbf, total=   0.0s\n",
      "[CV] coef0=0.1, degree=2, kernel=rbf .................................\n",
      "[CV] .................. coef0=0.1, degree=2, kernel=rbf, total=   0.0s\n",
      "[CV] coef0=0.1, degree=3, kernel=poly ................................\n",
      "[CV] ................. coef0=0.1, degree=3, kernel=poly, total=   0.0s\n",
      "[CV] coef0=0.1, degree=3, kernel=poly ................................\n",
      "[CV] ................. coef0=0.1, degree=3, kernel=poly, total=   0.0s\n",
      "[CV] coef0=0.1, degree=3, kernel=poly ................................\n",
      "[CV] ................. coef0=0.1, degree=3, kernel=poly, total=   0.0s\n",
      "[CV] coef0=0.1, degree=3, kernel=rbf .................................\n",
      "[CV] .................. coef0=0.1, degree=3, kernel=rbf, total=   0.0s\n",
      "[CV] coef0=0.1, degree=3, kernel=rbf .................................\n",
      "[CV] .................. coef0=0.1, degree=3, kernel=rbf, total=   0.0s\n",
      "[CV] coef0=0.1, degree=3, kernel=rbf .................................\n",
      "[CV] .................. coef0=0.1, degree=3, kernel=rbf, total=   0.0s\n",
      "[CV] coef0=0.1, degree=5, kernel=poly ................................\n"
     ]
    },
    {
     "name": "stderr",
     "output_type": "stream",
     "text": [
      "[Parallel(n_jobs=1)]: Using backend SequentialBackend with 1 concurrent workers.\n",
      "[Parallel(n_jobs=1)]: Done   1 out of   1 | elapsed:    0.0s remaining:    0.0s\n"
     ]
    },
    {
     "name": "stdout",
     "output_type": "stream",
     "text": [
      "[CV] ................. coef0=0.1, degree=5, kernel=poly, total=   0.1s\n",
      "[CV] coef0=0.1, degree=5, kernel=poly ................................\n",
      "[CV] ................. coef0=0.1, degree=5, kernel=poly, total=   0.1s\n",
      "[CV] coef0=0.1, degree=5, kernel=poly ................................\n",
      "[CV] ................. coef0=0.1, degree=5, kernel=poly, total=   0.0s\n",
      "[CV] coef0=0.1, degree=5, kernel=rbf .................................\n",
      "[CV] .................. coef0=0.1, degree=5, kernel=rbf, total=   0.0s\n",
      "[CV] coef0=0.1, degree=5, kernel=rbf .................................\n",
      "[CV] .................. coef0=0.1, degree=5, kernel=rbf, total=   0.0s\n",
      "[CV] coef0=0.1, degree=5, kernel=rbf .................................\n",
      "[CV] .................. coef0=0.1, degree=5, kernel=rbf, total=   0.0s\n",
      "[CV] coef0=0.5, degree=2, kernel=poly ................................\n",
      "[CV] ................. coef0=0.5, degree=2, kernel=poly, total=   0.0s\n",
      "[CV] coef0=0.5, degree=2, kernel=poly ................................\n",
      "[CV] ................. coef0=0.5, degree=2, kernel=poly, total=   0.0s\n",
      "[CV] coef0=0.5, degree=2, kernel=poly ................................\n",
      "[CV] ................. coef0=0.5, degree=2, kernel=poly, total=   0.0s\n",
      "[CV] coef0=0.5, degree=2, kernel=rbf .................................\n",
      "[CV] .................. coef0=0.5, degree=2, kernel=rbf, total=   0.0s\n",
      "[CV] coef0=0.5, degree=2, kernel=rbf .................................\n",
      "[CV] .................. coef0=0.5, degree=2, kernel=rbf, total=   0.0s\n",
      "[CV] coef0=0.5, degree=2, kernel=rbf .................................\n",
      "[CV] .................. coef0=0.5, degree=2, kernel=rbf, total=   0.0s\n",
      "[CV] coef0=0.5, degree=3, kernel=poly ................................\n",
      "[CV] ................. coef0=0.5, degree=3, kernel=poly, total=   0.0s\n",
      "[CV] coef0=0.5, degree=3, kernel=poly ................................\n",
      "[CV] ................. coef0=0.5, degree=3, kernel=poly, total=   0.0s\n",
      "[CV] coef0=0.5, degree=3, kernel=poly ................................\n",
      "[CV] ................. coef0=0.5, degree=3, kernel=poly, total=   0.0s\n",
      "[CV] coef0=0.5, degree=3, kernel=rbf .................................\n",
      "[CV] .................. coef0=0.5, degree=3, kernel=rbf, total=   0.0s\n",
      "[CV] coef0=0.5, degree=3, kernel=rbf .................................\n",
      "[CV] .................. coef0=0.5, degree=3, kernel=rbf, total=   0.0s\n",
      "[CV] coef0=0.5, degree=3, kernel=rbf .................................\n",
      "[CV] .................. coef0=0.5, degree=3, kernel=rbf, total=   0.0s\n",
      "[CV] coef0=0.5, degree=5, kernel=poly ................................\n",
      "[CV] ................. coef0=0.5, degree=5, kernel=poly, total=   0.1s\n",
      "[CV] coef0=0.5, degree=5, kernel=poly ................................\n",
      "[CV] ................. coef0=0.5, degree=5, kernel=poly, total=   0.1s\n",
      "[CV] coef0=0.5, degree=5, kernel=poly ................................\n",
      "[CV] ................. coef0=0.5, degree=5, kernel=poly, total=   0.1s\n",
      "[CV] coef0=0.5, degree=5, kernel=rbf .................................\n",
      "[CV] .................. coef0=0.5, degree=5, kernel=rbf, total=   0.0s\n",
      "[CV] coef0=0.5, degree=5, kernel=rbf .................................\n",
      "[CV] .................. coef0=0.5, degree=5, kernel=rbf, total=   0.0s\n",
      "[CV] coef0=0.5, degree=5, kernel=rbf .................................\n",
      "[CV] .................. coef0=0.5, degree=5, kernel=rbf, total=   0.0s\n",
      "[CV] coef0=1, degree=2, kernel=poly ..................................\n",
      "[CV] ................... coef0=1, degree=2, kernel=poly, total=   0.0s\n",
      "[CV] coef0=1, degree=2, kernel=poly ..................................\n",
      "[CV] ................... coef0=1, degree=2, kernel=poly, total=   0.0s\n",
      "[CV] coef0=1, degree=2, kernel=poly ..................................\n",
      "[CV] ................... coef0=1, degree=2, kernel=poly, total=   0.0s\n",
      "[CV] coef0=1, degree=2, kernel=rbf ...................................\n",
      "[CV] .................... coef0=1, degree=2, kernel=rbf, total=   0.0s\n",
      "[CV] coef0=1, degree=2, kernel=rbf ...................................\n",
      "[CV] .................... coef0=1, degree=2, kernel=rbf, total=   0.0s\n",
      "[CV] coef0=1, degree=2, kernel=rbf ...................................\n",
      "[CV] .................... coef0=1, degree=2, kernel=rbf, total=   0.0s\n",
      "[CV] coef0=1, degree=3, kernel=poly ..................................\n",
      "[CV] ................... coef0=1, degree=3, kernel=poly, total=   0.0s\n",
      "[CV] coef0=1, degree=3, kernel=poly ..................................\n",
      "[CV] ................... coef0=1, degree=3, kernel=poly, total=   0.0s\n",
      "[CV] coef0=1, degree=3, kernel=poly ..................................\n",
      "[CV] ................... coef0=1, degree=3, kernel=poly, total=   0.0s\n",
      "[CV] coef0=1, degree=3, kernel=rbf ...................................\n",
      "[CV] .................... coef0=1, degree=3, kernel=rbf, total=   0.0s\n",
      "[CV] coef0=1, degree=3, kernel=rbf ...................................\n",
      "[CV] .................... coef0=1, degree=3, kernel=rbf, total=   0.0s\n",
      "[CV] coef0=1, degree=3, kernel=rbf ...................................\n",
      "[CV] .................... coef0=1, degree=3, kernel=rbf, total=   0.0s\n",
      "[CV] coef0=1, degree=5, kernel=poly ..................................\n",
      "[CV] ................... coef0=1, degree=5, kernel=poly, total=   0.2s\n",
      "[CV] coef0=1, degree=5, kernel=poly ..................................\n",
      "[CV] ................... coef0=1, degree=5, kernel=poly, total=   0.1s\n",
      "[CV] coef0=1, degree=5, kernel=poly ..................................\n",
      "[CV] ................... coef0=1, degree=5, kernel=poly, total=   0.2s\n",
      "[CV] coef0=1, degree=5, kernel=rbf ...................................\n",
      "[CV] .................... coef0=1, degree=5, kernel=rbf, total=   0.0s\n",
      "[CV] coef0=1, degree=5, kernel=rbf ...................................\n",
      "[CV] .................... coef0=1, degree=5, kernel=rbf, total=   0.0s\n",
      "[CV] coef0=1, degree=5, kernel=rbf ...................................\n",
      "[CV] .................... coef0=1, degree=5, kernel=rbf, total=   0.0s\n",
      "[CV] coef0=2, degree=2, kernel=poly ..................................\n",
      "[CV] ................... coef0=2, degree=2, kernel=poly, total=   0.0s\n",
      "[CV] coef0=2, degree=2, kernel=poly ..................................\n",
      "[CV] ................... coef0=2, degree=2, kernel=poly, total=   0.0s\n",
      "[CV] coef0=2, degree=2, kernel=poly ..................................\n",
      "[CV] ................... coef0=2, degree=2, kernel=poly, total=   0.0s\n",
      "[CV] coef0=2, degree=2, kernel=rbf ...................................\n",
      "[CV] .................... coef0=2, degree=2, kernel=rbf, total=   0.0s\n",
      "[CV] coef0=2, degree=2, kernel=rbf ...................................\n",
      "[CV] .................... coef0=2, degree=2, kernel=rbf, total=   0.0s\n",
      "[CV] coef0=2, degree=2, kernel=rbf ...................................\n",
      "[CV] .................... coef0=2, degree=2, kernel=rbf, total=   0.0s\n",
      "[CV] coef0=2, degree=3, kernel=poly ..................................\n",
      "[CV] ................... coef0=2, degree=3, kernel=poly, total=   0.0s\n",
      "[CV] coef0=2, degree=3, kernel=poly ..................................\n",
      "[CV] ................... coef0=2, degree=3, kernel=poly, total=   0.0s\n",
      "[CV] coef0=2, degree=3, kernel=poly ..................................\n",
      "[CV] ................... coef0=2, degree=3, kernel=poly, total=   0.0s\n",
      "[CV] coef0=2, degree=3, kernel=rbf ...................................\n",
      "[CV] .................... coef0=2, degree=3, kernel=rbf, total=   0.0s\n",
      "[CV] coef0=2, degree=3, kernel=rbf ...................................\n",
      "[CV] .................... coef0=2, degree=3, kernel=rbf, total=   0.0s\n",
      "[CV] coef0=2, degree=3, kernel=rbf ...................................\n",
      "[CV] .................... coef0=2, degree=3, kernel=rbf, total=   0.0s\n",
      "[CV] coef0=2, degree=5, kernel=poly ..................................\n",
      "[CV] ................... coef0=2, degree=5, kernel=poly, total=   0.3s\n",
      "[CV] coef0=2, degree=5, kernel=poly ..................................\n",
      "[CV] ................... coef0=2, degree=5, kernel=poly, total=   0.3s\n",
      "[CV] coef0=2, degree=5, kernel=poly ..................................\n",
      "[CV] ................... coef0=2, degree=5, kernel=poly, total=   0.3s\n",
      "[CV] coef0=2, degree=5, kernel=rbf ...................................\n",
      "[CV] .................... coef0=2, degree=5, kernel=rbf, total=   0.0s\n",
      "[CV] coef0=2, degree=5, kernel=rbf ...................................\n",
      "[CV] .................... coef0=2, degree=5, kernel=rbf, total=   0.0s\n",
      "[CV] coef0=2, degree=5, kernel=rbf ...................................\n",
      "[CV] .................... coef0=2, degree=5, kernel=rbf, total=   0.0s\n"
     ]
    },
    {
     "name": "stderr",
     "output_type": "stream",
     "text": [
      "[Parallel(n_jobs=1)]: Done  72 out of  72 | elapsed:    2.4s finished\n"
     ]
    }
   ],
   "source": [
    "gsearch1 = GridSearchCV(SVC(),\n",
    "    param_grid1,\n",
    "    cv=3,\n",
    "    verbose=2,n_jobs=1)\n",
    "\n",
    "gsearch1 = gsearch1.fit(train_X, train_y)"
   ]
  },
  {
   "cell_type": "code",
   "execution_count": 15,
   "metadata": {},
   "outputs": [
    {
     "data": {
      "text/plain": [
       "({'coef0': 0.1, 'degree': 2, 'kernel': 'poly'}, 0.9209364548494984)"
      ]
     },
     "execution_count": 15,
     "metadata": {},
     "output_type": "execute_result"
    }
   ],
   "source": [
    "best_params = gsearch1.best_params_\n",
    "best_params, gsearch1.best_score_"
   ]
  },
  {
   "cell_type": "code",
   "execution_count": 16,
   "metadata": {},
   "outputs": [],
   "source": [
    "# Round 2\n",
    "param_grid2 = {\n",
    "    'coef0':[0,0.01,0.05,0.1]  \n",
    "}"
   ]
  },
  {
   "cell_type": "code",
   "execution_count": 17,
   "metadata": {},
   "outputs": [
    {
     "name": "stdout",
     "output_type": "stream",
     "text": [
      "Fitting 3 folds for each of 4 candidates, totalling 12 fits\n"
     ]
    },
    {
     "name": "stderr",
     "output_type": "stream",
     "text": [
      "[Parallel(n_jobs=1)]: Using backend SequentialBackend with 1 concurrent workers.\n",
      "[Parallel(n_jobs=1)]: Done  12 out of  12 | elapsed:    0.1s finished\n"
     ]
    }
   ],
   "source": [
    "gsearch2 = GridSearchCV(SVC(**best_params),\n",
    "    param_grid2,\n",
    "    cv=3,\n",
    "    verbose=1,n_jobs=1)\n",
    "\n",
    "gsearch2 = gsearch2.fit(train_X, train_y)"
   ]
  },
  {
   "cell_type": "code",
   "execution_count": 18,
   "metadata": {},
   "outputs": [
    {
     "data": {
      "text/plain": [
       "({'coef0': 0, 'degree': 2, 'kernel': 'poly'}, 0.9209364548494984)"
      ]
     },
     "execution_count": 18,
     "metadata": {},
     "output_type": "execute_result"
    }
   ],
   "source": [
    "best_params.update(gsearch2.best_params_)\n",
    "best_params, gsearch2.best_score_"
   ]
  },
  {
   "cell_type": "code",
   "execution_count": null,
   "metadata": {},
   "outputs": [],
   "source": []
  },
  {
   "cell_type": "code",
   "execution_count": null,
   "metadata": {},
   "outputs": [],
   "source": []
  },
  {
   "cell_type": "code",
   "execution_count": null,
   "metadata": {},
   "outputs": [],
   "source": []
  }
 ],
 "metadata": {
  "kernelspec": {
   "display_name": "Python 3",
   "language": "python",
   "name": "python3"
  },
  "language_info": {
   "codemirror_mode": {
    "name": "ipython",
    "version": 3
   },
   "file_extension": ".py",
   "mimetype": "text/x-python",
   "name": "python",
   "nbconvert_exporter": "python",
   "pygments_lexer": "ipython3",
   "version": "3.6.7"
  }
 },
 "nbformat": 4,
 "nbformat_minor": 2
}
