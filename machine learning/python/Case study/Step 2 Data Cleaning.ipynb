{
 "cells": [
  {
   "cell_type": "code",
   "execution_count": 2,
   "metadata": {},
   "outputs": [],
   "source": [
    "import numpy as np\n",
    "import pandas as pd\n",
    "import matplotlib.pyplot as plt\n",
    "from sklearn.experimental import enable_iterative_imputer\n",
    "from sklearn.impute import IterativeImputer"
   ]
  },
  {
   "cell_type": "code",
   "execution_count": 3,
   "metadata": {},
   "outputs": [],
   "source": [
    "data = pd.read_csv('train.csv')"
   ]
  },
  {
   "cell_type": "code",
   "execution_count": 4,
   "metadata": {},
   "outputs": [
    {
     "data": {
      "text/plain": [
       "Id                 0\n",
       "MSSubClass         0\n",
       "MSZoning           0\n",
       "LotFrontage      259\n",
       "LotArea            0\n",
       "                ... \n",
       "MoSold             0\n",
       "YrSold             0\n",
       "SaleType           0\n",
       "SaleCondition      0\n",
       "SalePrice          0\n",
       "Length: 81, dtype: int64"
      ]
     },
     "execution_count": 4,
     "metadata": {},
     "output_type": "execute_result"
    }
   ],
   "source": [
    "def Nrep(x):\n",
    "    nrep = x.isna().sum()\n",
    "    return nrep\n",
    "    \n",
    "null_rep = data.apply(Nrep)\n",
    "null_rep"
   ]
  },
  {
   "cell_type": "code",
   "execution_count": 5,
   "metadata": {},
   "outputs": [
    {
     "data": {
      "text/plain": [
       "['LotFrontage',\n",
       " 'Alley',\n",
       " 'MasVnrType',\n",
       " 'MasVnrArea',\n",
       " 'BsmtQual',\n",
       " 'BsmtCond',\n",
       " 'BsmtExposure',\n",
       " 'BsmtFinType1',\n",
       " 'BsmtFinType2',\n",
       " 'Electrical',\n",
       " 'FireplaceQu',\n",
       " 'GarageType',\n",
       " 'GarageYrBlt',\n",
       " 'GarageFinish',\n",
       " 'GarageQual',\n",
       " 'GarageCond',\n",
       " 'PoolQC',\n",
       " 'Fence',\n",
       " 'MiscFeature']"
      ]
     },
     "execution_count": 5,
     "metadata": {},
     "output_type": "execute_result"
    }
   ],
   "source": [
    "msng_coln_names = list(null_rep[null_rep>0].index)\n",
    "msng_coln_names"
   ]
  },
  {
   "cell_type": "code",
   "execution_count": 6,
   "metadata": {},
   "outputs": [
    {
     "data": {
      "text/plain": [
       "LotFrontage      259\n",
       "Alley           1369\n",
       "MasVnrType         8\n",
       "MasVnrArea         8\n",
       "BsmtQual          37\n",
       "BsmtCond          37\n",
       "BsmtExposure      38\n",
       "BsmtFinType1      37\n",
       "BsmtFinType2      38\n",
       "Electrical         1\n",
       "FireplaceQu      690\n",
       "GarageType        81\n",
       "GarageYrBlt       81\n",
       "GarageFinish      81\n",
       "GarageQual        81\n",
       "GarageCond        81\n",
       "PoolQC          1453\n",
       "Fence           1179\n",
       "MiscFeature     1406\n",
       "dtype: int64"
      ]
     },
     "execution_count": 6,
     "metadata": {},
     "output_type": "execute_result"
    }
   ],
   "source": [
    "msng_colns = data[msng_coln_names].isna().sum()\n",
    "msng_colns\n",
    "\n",
    "##### OR ####\n",
    "\n",
    "# msng_colns = null_rep[null_rep>0]\n",
    "# msng_colns"
   ]
  },
  {
   "cell_type": "code",
   "execution_count": 7,
   "metadata": {},
   "outputs": [
    {
     "name": "stdout",
     "output_type": "stream",
     "text": [
      "['LotFrontage', 'MasVnrArea', 'GarageYrBlt']\n"
     ]
    },
    {
     "data": {
      "text/plain": [
       "LotFrontage    259\n",
       "MasVnrArea       8\n",
       "GarageYrBlt     81\n",
       "dtype: int64"
      ]
     },
     "execution_count": 7,
     "metadata": {},
     "output_type": "execute_result"
    }
   ],
   "source": [
    "for col in msng_coln_names:\n",
    "    if data[col].dtype == object :\n",
    "        data[col].fillna('tmp',inplace=True)\n",
    "null_rep = data.apply(Nrep)\n",
    "msng_coln_names = list(null_rep[null_rep>0].index)\n",
    "print(msng_coln_names)\n",
    "msng_colns = data[msng_coln_names].isna().sum()\n",
    "msng_colns"
   ]
  },
  {
   "cell_type": "code",
   "execution_count": 8,
   "metadata": {},
   "outputs": [
    {
     "name": "stderr",
     "output_type": "stream",
     "text": [
      "/home/ubuntu/anaconda3/lib/python3.6/site-packages/numpy/lib/histograms.py:839: RuntimeWarning: invalid value encountered in greater_equal\n",
      "  keep = (tmp_a >= first_edge)\n",
      "/home/ubuntu/anaconda3/lib/python3.6/site-packages/numpy/lib/histograms.py:840: RuntimeWarning: invalid value encountered in less_equal\n",
      "  keep &= (tmp_a <= last_edge)\n"
     ]
    },
    {
     "data": {
      "text/plain": [
       "(array([205., 643., 298.,  40.,   9.,   4.,   0.,   0.,   0.,   2.]),\n",
       " array([ 21. ,  50.2,  79.4, 108.6, 137.8, 167. , 196.2, 225.4, 254.6,\n",
       "        283.8, 313. ]),\n",
       " <a list of 10 Patch objects>)"
      ]
     },
     "execution_count": 8,
     "metadata": {},
     "output_type": "execute_result"
    },
    {
     "data": {
      "image/png": "[encoded data removed]",
      "text/plain": [
       "<Figure size 432x288 with 1 Axes>"
      ]
     },
     "metadata": {},
     "output_type": "display_data"
    }
   ],
   "source": [
    "plt.hist(data.LotFrontage,color='white',edgecolor='black')"
   ]
  },
  {
   "cell_type": "code",
   "execution_count": 10,
   "metadata": {},
   "outputs": [
    {
     "data": {
      "image/png": "[encoded data removed]",
      "text/plain": [
       "<Figure size 432x288 with 1 Axes>"
      ]
     },
     "metadata": {},
     "output_type": "display_data"
    }
   ],
   "source": [
    "plt.scatter(data.LotArea[data.LotArea<50000],data.LotFrontage[data.LotArea<50000], alpha = .7, c='k')\n",
    "plt.show()"
   ]
  },
  {
   "cell_type": "code",
   "execution_count": 9,
   "metadata": {},
   "outputs": [
    {
     "data": {
      "image/png": "[encoded data removed]",
      "text/plain": [
       "<Figure size 432x288 with 1 Axes>"
      ]
     },
     "metadata": {},
     "output_type": "display_data"
    }
   ],
   "source": [
    "plt.hist(data.LotArea,bins=100,color='white',edgecolor='black')\n",
    "plt.xlim = (0,200000)\n",
    "plt.ylim = (0,1400)\n",
    "plt.show()"
   ]
  },
  {
   "cell_type": "code",
   "execution_count": 10,
   "metadata": {},
   "outputs": [
    {
     "data": {
      "image/png": "[encoded data removed]",
      "text/plain": [
       "<Figure size 432x288 with 1 Axes>"
      ]
     },
     "metadata": {},
     "output_type": "display_data"
    }
   ],
   "source": [
    "plt.hist(data.loc[data['LotFrontage'].isna(),'LotArea'],bins=100,color='white',edgecolor='black')\n",
    "plt.xlim = (0,200000)\n",
    "plt.ylim = (0,1400)\n",
    "plt.show()"
   ]
  },
  {
   "cell_type": "code",
   "execution_count": 11,
   "metadata": {},
   "outputs": [
    {
     "name": "stdout",
     "output_type": "stream",
     "text": [
      "   Id  MSSubClass MSZoning  LotFrontage  LotArea Street Alley LotShape  \\\n",
      "0   1          60       RL         65.0     8450   Pave   tmp      Reg   \n",
      "1   2          20       RL         80.0     9600   Pave   tmp      Reg   \n",
      "2   3          60       RL         68.0    11250   Pave   tmp      IR1   \n",
      "3   4          70       RL         60.0     9550   Pave   tmp      IR1   \n",
      "4   5          60       RL         84.0    14260   Pave   tmp      IR1   \n",
      "\n",
      "  LandContour Utilities  ... PoolQC Fence MiscFeature MiscVal MoSold YrSold  \\\n",
      "0         Lvl    AllPub  ...    tmp   tmp         tmp       0      2   2008   \n",
      "1         Lvl    AllPub  ...    tmp   tmp         tmp       0      5   2007   \n",
      "2         Lvl    AllPub  ...    tmp   tmp         tmp       0      9   2008   \n",
      "3         Lvl    AllPub  ...    tmp   tmp         tmp       0      2   2006   \n",
      "4         Lvl    AllPub  ...    tmp   tmp         tmp       0     12   2008   \n",
      "\n",
      "  SaleType  SaleCondition  SalePrice  LotFrontageImp  \n",
      "0       WD         Normal     208500            65.0  \n",
      "1       WD         Normal     181500            80.0  \n",
      "2       WD         Normal     223500            68.0  \n",
      "3       WD        Abnorml     140000            60.0  \n",
      "4       WD         Normal     250000            84.0  \n",
      "\n",
      "[5 rows x 82 columns]\n"
     ]
    },
    {
     "name": "stderr",
     "output_type": "stream",
     "text": [
      "/home/ubuntu/anaconda3/lib/python3.6/site-packages/ipykernel_launcher.py:1: UserWarning: Pandas doesn't allow columns to be created via a new attribute name - see https://pandas.pydata.org/pandas-docs/stable/indexing.html#attribute-access\n",
      "  \"\"\"Entry point for launching an IPython kernel.\n"
     ]
    }
   ],
   "source": [
    "data.LotFrontageImp = data.LotFrontage\n",
    "\n",
    "x = data[['LotFrontage','LotArea']]\n",
    "\n",
    "imputer = IterativeImputer(max_iter=100,random_state=42)\n",
    "\n",
    "# data['LotFrontageImp11'] = imputer.fit_transform(data['LotFrontage'].values.reshape(-1,1))\n",
    "y = imputer.fit_transform(x)\n",
    "\n",
    "data['LotFrontageImp'] = [item[0] for item in y]\n",
    "print(data.head())\n",
    "\n",
    "# c=0\n",
    "# d=0\n",
    "# for i in range(0,len(data.LotFrontageImp)):\n",
    "#     print(data.LotFrontageImp[i],data.LotFrontageImp11[i])\n",
    "#     if data.LotFrontageImp[i] == data.LotFrontageImp11[i]:\n",
    "#         c+=1\n",
    "#     else:\n",
    "#         d+=1\n",
    "\n",
    "# print(c,d)"
   ]
  },
  {
   "cell_type": "code",
   "execution_count": 12,
   "metadata": {},
   "outputs": [
    {
     "data": {
      "text/plain": [
       "LotFrontage       259\n",
       "LotFrontageImp      0\n",
       "dtype: int64"
      ]
     },
     "execution_count": 12,
     "metadata": {},
     "output_type": "execute_result"
    }
   ],
   "source": [
    "test = data[['LotFrontage', 'LotFrontageImp']]\n",
    "null_rep = test.apply(Nrep)\n",
    "null_rep"
   ]
  },
  {
   "cell_type": "code",
   "execution_count": 13,
   "metadata": {},
   "outputs": [
    {
     "data": {
      "image/png": "[encoded data removed]",
      "text/plain": [
       "<Figure size 432x288 with 1 Axes>"
      ]
     },
     "metadata": {},
     "output_type": "display_data"
    }
   ],
   "source": [
    "plt.scatter(data.YearBuilt,data.GarageYrBlt, alpha = .7, c='k')\n",
    "plt.show()"
   ]
  },
  {
   "cell_type": "code",
   "execution_count": 13,
   "metadata": {},
   "outputs": [
    {
     "name": "stdout",
     "output_type": "stream",
     "text": [
      "0\n"
     ]
    },
    {
     "name": "stderr",
     "output_type": "stream",
     "text": [
      "/home/ubuntu/anaconda3/lib/python3.6/site-packages/ipykernel_launcher.py:3: SettingWithCopyWarning: \n",
      "A value is trying to be set on a copy of a slice from a DataFrame\n",
      "\n",
      "See the caveats in the documentation: https://pandas.pydata.org/pandas-docs/stable/user_guide/indexing.html#returning-a-view-versus-a-copy\n",
      "  This is separate from the ipykernel package so we can avoid doing imports until\n"
     ]
    }
   ],
   "source": [
    "for i in range(0,len(data.GarageYrBlt)):\n",
    "    if np.isnan(data.GarageYrBlt[i]):\n",
    "        data.GarageYrBlt[i] = data.YearBuilt[i]\n",
    "print(data.GarageYrBlt.isna().sum())"
   ]
  },
  {
   "cell_type": "code",
   "execution_count": 14,
   "metadata": {},
   "outputs": [
    {
     "data": {
      "text/plain": [
       "LotFrontage    259\n",
       "MasVnrArea       8\n",
       "GarageYrBlt      0\n",
       "dtype: int64"
      ]
     },
     "execution_count": 14,
     "metadata": {},
     "output_type": "execute_result"
    }
   ],
   "source": [
    "test = data[msng_coln_names].apply(Nrep)\n",
    "test"
   ]
  },
  {
   "cell_type": "code",
   "execution_count": 16,
   "metadata": {},
   "outputs": [
    {
     "name": "stdout",
     "output_type": "stream",
     "text": [
      "     MasVnrType  MasVnrArea\n",
      "234         tmp         NaN\n",
      "529         tmp         NaN\n",
      "650         tmp         NaN\n",
      "936         tmp         NaN\n",
      "973         tmp         NaN\n",
      "977         tmp         NaN\n",
      "1243        tmp         NaN\n",
      "1278        tmp         NaN\n"
     ]
    }
   ],
   "source": [
    "vnr = data.loc[data['MasVnrArea'].isna(),['MasVnrType','MasVnrArea']]\n",
    "print(vnr)"
   ]
  },
  {
   "cell_type": "code",
   "execution_count": 17,
   "metadata": {},
   "outputs": [
    {
     "name": "stdout",
     "output_type": "stream",
     "text": [
      "0\n"
     ]
    }
   ],
   "source": [
    "data.loc[data['MasVnrArea'].isna(),'MasVnrArea'] = 0\n",
    "print(data['MasVnrArea'].isna().sum())"
   ]
  },
  {
   "cell_type": "code",
   "execution_count": 18,
   "metadata": {},
   "outputs": [
    {
     "data": {
      "text/plain": [
       "LotFrontage    259\n",
       "MasVnrArea       0\n",
       "GarageYrBlt      0\n",
       "dtype: int64"
      ]
     },
     "execution_count": 18,
     "metadata": {},
     "output_type": "execute_result"
    }
   ],
   "source": [
    "test = data[msng_coln_names].apply(Nrep)\n",
    "test"
   ]
  },
  {
   "cell_type": "code",
   "execution_count": 19,
   "metadata": {},
   "outputs": [
    {
     "name": "stdout",
     "output_type": "stream",
     "text": [
      "<bound method NDFrame.head of         Id  MSSubClass MSZoning  LotArea Street Alley LotShape LandContour  \\\n",
      "0        1          60       RL     8450   Pave   tmp      Reg         Lvl   \n",
      "1        2          20       RL     9600   Pave   tmp      Reg         Lvl   \n",
      "2        3          60       RL    11250   Pave   tmp      IR1         Lvl   \n",
      "3        4          70       RL     9550   Pave   tmp      IR1         Lvl   \n",
      "4        5          60       RL    14260   Pave   tmp      IR1         Lvl   \n",
      "...    ...         ...      ...      ...    ...   ...      ...         ...   \n",
      "1455  1456          60       RL     7917   Pave   tmp      Reg         Lvl   \n",
      "1456  1457          20       RL    13175   Pave   tmp      Reg         Lvl   \n",
      "1457  1458          70       RL     9042   Pave   tmp      Reg         Lvl   \n",
      "1458  1459          20       RL     9717   Pave   tmp      Reg         Lvl   \n",
      "1459  1460          20       RL     9937   Pave   tmp      Reg         Lvl   \n",
      "\n",
      "     Utilities LotConfig  ... PoolQC  Fence MiscFeature MiscVal MoSold YrSold  \\\n",
      "0       AllPub    Inside  ...    tmp    tmp         tmp       0      2   2008   \n",
      "1       AllPub       FR2  ...    tmp    tmp         tmp       0      5   2007   \n",
      "2       AllPub    Inside  ...    tmp    tmp         tmp       0      9   2008   \n",
      "3       AllPub    Corner  ...    tmp    tmp         tmp       0      2   2006   \n",
      "4       AllPub       FR2  ...    tmp    tmp         tmp       0     12   2008   \n",
      "...        ...       ...  ...    ...    ...         ...     ...    ...    ...   \n",
      "1455    AllPub    Inside  ...    tmp    tmp         tmp       0      8   2007   \n",
      "1456    AllPub    Inside  ...    tmp  MnPrv         tmp       0      2   2010   \n",
      "1457    AllPub    Inside  ...    tmp  GdPrv        Shed    2500      5   2010   \n",
      "1458    AllPub    Inside  ...    tmp    tmp         tmp       0      4   2010   \n",
      "1459    AllPub    Inside  ...    tmp    tmp         tmp       0      6   2008   \n",
      "\n",
      "      SaleType  SaleCondition  SalePrice  LotFrontageImp  \n",
      "0           WD         Normal     208500            65.0  \n",
      "1           WD         Normal     181500            80.0  \n",
      "2           WD         Normal     223500            68.0  \n",
      "3           WD        Abnorml     140000            60.0  \n",
      "4           WD         Normal     250000            84.0  \n",
      "...        ...            ...        ...             ...  \n",
      "1455        WD         Normal     175000            62.0  \n",
      "1456        WD         Normal     210000            85.0  \n",
      "1457        WD         Normal     266500            66.0  \n",
      "1458        WD         Normal     142125            68.0  \n",
      "1459        WD         Normal     147500            75.0  \n",
      "\n",
      "[1460 rows x 81 columns]>\n"
     ]
    }
   ],
   "source": [
    "data.drop(columns='LotFrontage',inplace=True)\n",
    "print(data.head)"
   ]
  },
  {
   "cell_type": "code",
   "execution_count": 21,
   "metadata": {},
   "outputs": [],
   "source": [
    "data.to_csv('cleaned_train.csv',index=False)"
   ]
  },
  {
   "cell_type": "code",
   "execution_count": null,
   "metadata": {},
   "outputs": [],
   "source": []
  },
  {
   "cell_type": "code",
   "execution_count": null,
   "metadata": {},
   "outputs": [],
   "source": []
  },
  {
   "cell_type": "code",
   "execution_count": null,
   "metadata": {},
   "outputs": [],
   "source": []
  }
 ],
 "metadata": {
  "kernelspec": {
   "display_name": "Python 3",
   "language": "python",
   "name": "python3"
  },
  "language_info": {
   "codemirror_mode": {
    "name": "ipython",
    "version": 3
   },
   "file_extension": ".py",
   "mimetype": "text/x-python",
   "name": "python",
   "nbconvert_exporter": "python",
   "pygments_lexer": "ipython3",
   "version": "3.6.7"
  }
 },
 "nbformat": 4,
 "nbformat_minor": 4
}
